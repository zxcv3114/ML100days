{
 "cells": [
  {
   "cell_type": "code",
   "execution_count": null,
   "metadata": {
    "id": "g7_Zhb9Bif-K"
   },
   "outputs": [],
   "source": []
  },
  {
   "cell_type": "markdown",
   "metadata": {
    "id": "GLhLqOtlj1fc"
   },
   "source": [
    "作業目標<br>\n",
    "活用矩陣運算，實做線性代數<br>\n",
    "作業重點<br>\n",
    "線性代數公式應用<br>\n",
    "矩陣相乘維度需要對好，例如:2X3矩陣乘上3X5矩陣得到2X5矩陣"
   ]
  },
  {
   "cell_type": "markdown",
   "metadata": {
    "id": "Rq6NRNxLj4w1"
   },
   "source": [
    "題目:<br>\n",
    "array1 = np.array([[10, 8], [3, 5]]) <br>\n",
    "1. 運用上列array計算反矩陣，乘上原矩陣，並觀察是否為單位矩陣?\n",
    "2. 運用上列array計算特徵值、特徵向量?\n",
    "3. 運用上列array計算SVD?"
   ]
  },
  {
   "cell_type": "code",
   "execution_count": 1,
   "metadata": {
    "id": "YakNatIPj3CW"
   },
   "outputs": [],
   "source": [
    "import numpy as np"
   ]
  },
  {
   "cell_type": "code",
   "execution_count": 8,
   "metadata": {
    "id": "QT4ntMV1kR1c"
   },
   "outputs": [
    {
     "data": {
      "text/plain": [
       "array([[1., 0.],\n",
       "       [0., 1.]])"
      ]
     },
     "execution_count": 8,
     "metadata": {},
     "output_type": "execute_result"
    }
   ],
   "source": [
    "#1. 運用上列array計算反矩陣，乘上原矩陣，並觀察是否為單位矩陣?\n",
    "array1 = np.array([[10, 8], [3, 5]])\n",
    "invarray1=np.linalg.inv(array1)\n",
    "np.dot(array1,invarray1)"
   ]
  },
  {
   "cell_type": "code",
   "execution_count": 12,
   "metadata": {
    "id": "9f7cVxwwk-y9"
   },
   "outputs": [
    {
     "name": "stdout",
     "output_type": "stream",
     "text": [
      "特徵值: [13.  2.] \n",
      "特徵向量: [[ 0.93632918 -0.70710678]\n",
      " [ 0.35112344  0.70710678]]\n"
     ]
    }
   ],
   "source": [
    "#2. 運用上列array計算特徵值、特徵向量?\n",
    "w,v=np.linalg.eig(array1)\n",
    "print(\"特徵值:\",w,\"\\n特徵向量:\",v)"
   ]
  },
  {
   "cell_type": "code",
   "execution_count": 18,
   "metadata": {
    "id": "OHSs5etxnL8D"
   },
   "outputs": [
    {
     "name": "stdout",
     "output_type": "stream",
     "text": [
      "u矩陣: [[-0.91663818 -0.39971796]\n",
      " [-0.39971796  0.91663818]] \n",
      "\n",
      "s矩陣: [13.94721714  1.86417116] \n",
      "\n",
      "vh矩陣: [[-0.74319741 -0.6690722 ]\n",
      " [-0.6690722   0.74319741]]\n"
     ]
    }
   ],
   "source": [
    "#3. 運用上列array計算SVD?\n",
    "u, s, vh = np.linalg.svd(array1)\n",
    "print(\"u矩陣:\",u,\"\\n\\ns矩陣:\",s,\"\\n\\nvh矩陣:\",vh)"
   ]
  },
  {
   "cell_type": "code",
   "execution_count": null,
   "metadata": {
    "id": "5BaVZFRvpXZo"
   },
   "outputs": [],
   "source": []
  }
 ],
 "metadata": {
  "colab": {
   "collapsed_sections": [],
   "name": "作業Hong題目.ipynb",
   "provenance": []
  },
  "kernelspec": {
   "display_name": "Python 3",
   "language": "python",
   "name": "python3"
  },
  "language_info": {
   "codemirror_mode": {
    "name": "ipython",
    "version": 3
   },
   "file_extension": ".py",
   "mimetype": "text/x-python",
   "name": "python",
   "nbconvert_exporter": "python",
   "pygments_lexer": "ipython3",
   "version": "3.7.6"
  }
 },
 "nbformat": 4,
 "nbformat_minor": 1
}
