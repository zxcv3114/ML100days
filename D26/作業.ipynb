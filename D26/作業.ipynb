{
 "cells": [
  {
   "cell_type": "markdown",
   "metadata": {},
   "source": [
    "## 作業:\n",
    "今天學到不同統計量之間特性，  \n",
    "試著分析男生女生身高資料，  \n",
    "試著回答下面的問題:  \n",
    "Q1:試著用今天所教的內容，如何描述這兩組資料的樣態?    \n",
    "Q2: 請問男生和女生在平均身高上誰比較高?   \n",
    "Q3:請問第二題的答案和日常生活中觀察的一致嗎? 如果不一致，你覺得原因可能為何?    \n",
    "上述問題透過  python 語法進行運算，\n",
    "並將上述答案填寫在 (google 表單)[https://forms.gle/EDdU2Zfq8zLvDea18]\n",
    "![](作業資料圖檔.PNG)"
   ]
  },
  {
   "cell_type": "code",
   "execution_count": 1,
   "metadata": {
    "colab": {
     "base_uri": "https://localhost:8080/",
     "height": 34
    },
    "colab_type": "code",
    "executionInfo": {
     "elapsed": 1558,
     "status": "ok",
     "timestamp": 1578021044012,
     "user": {
      "displayName": "Mora chen",
      "photoUrl": "https://lh3.googleusercontent.com/a-/AAuE7mB40f7sDArbZ5_DYq02nNcnLD0Ryaf7AhsASSQeLQ=s64",
      "userId": "03171203089166907199"
     },
     "user_tz": -480
    },
    "id": "yz28_IgkYdBW",
    "outputId": "a12f486c-18b3-4fb5-d06c-f162aebd9444"
   },
   "outputs": [],
   "source": [
    "# library\n",
    "import matplotlib.pyplot as plt\n",
    "import numpy as np\n",
    "import pandas as pd\n",
    "from scipy import stats\n",
    "import math\n",
    "import statistics\n",
    "import seaborn as sns"
   ]
  },
  {
   "cell_type": "code",
   "execution_count": 2,
   "metadata": {},
   "outputs": [],
   "source": [
    "## 輸入資料\n",
    "boy=[164,176,169,169,165,175,159,151,144,160,183,165,156,170,164,173,165,163,177,171]\n",
    "girl=[169,183,170,168,182,170,173,185,151,156,162,169,162,181,159,154,167,175,170,160]"
   ]
  },
  {
   "cell_type": "code",
   "execution_count": 65,
   "metadata": {},
   "outputs": [
    {
     "name": "stdout",
     "output_type": "stream",
     "text": [
      "男生平均: 165.95\n",
      "女生平均: 168.3\n",
      "男生中位數: 165.0\n",
      "女生中位數: 169.0\n",
      "男生眾數: 165\n",
      "女生眾數: 170\n",
      "男生全距: 39\n",
      "女生全距: 34\n",
      "男生標準差: 9.213691185575838\n",
      "女生標準差: 9.766214587465353\n",
      "男生變異數: 84.89210526315789\n",
      "女生變異數: 95.37894736842105\n"
     ]
    },
    {
     "data": {
      "text/html": [
       "<div>\n",
       "<style scoped>\n",
       "    .dataframe tbody tr th:only-of-type {\n",
       "        vertical-align: middle;\n",
       "    }\n",
       "\n",
       "    .dataframe tbody tr th {\n",
       "        vertical-align: top;\n",
       "    }\n",
       "\n",
       "    .dataframe thead th {\n",
       "        text-align: right;\n",
       "    }\n",
       "</style>\n",
       "<table border=\"1\" class=\"dataframe\">\n",
       "  <thead>\n",
       "    <tr style=\"text-align: right;\">\n",
       "      <th></th>\n",
       "      <th>boy</th>\n",
       "      <th>girl</th>\n",
       "    </tr>\n",
       "  </thead>\n",
       "  <tbody>\n",
       "    <tr>\n",
       "      <th>mean</th>\n",
       "      <td>165.950000</td>\n",
       "      <td>168.300000</td>\n",
       "    </tr>\n",
       "    <tr>\n",
       "      <th>median</th>\n",
       "      <td>165.000000</td>\n",
       "      <td>169.000000</td>\n",
       "    </tr>\n",
       "    <tr>\n",
       "      <th>mode</th>\n",
       "      <td>165.000000</td>\n",
       "      <td>170.000000</td>\n",
       "    </tr>\n",
       "    <tr>\n",
       "      <th>range</th>\n",
       "      <td>39.000000</td>\n",
       "      <td>34.000000</td>\n",
       "    </tr>\n",
       "    <tr>\n",
       "      <th>std</th>\n",
       "      <td>9.213691</td>\n",
       "      <td>9.766215</td>\n",
       "    </tr>\n",
       "    <tr>\n",
       "      <th>var</th>\n",
       "      <td>84.892105</td>\n",
       "      <td>95.378947</td>\n",
       "    </tr>\n",
       "  </tbody>\n",
       "</table>\n",
       "</div>"
      ],
      "text/plain": [
       "               boy        girl\n",
       "mean    165.950000  168.300000\n",
       "median  165.000000  169.000000\n",
       "mode    165.000000  170.000000\n",
       "range    39.000000   34.000000\n",
       "std       9.213691    9.766215\n",
       "var      84.892105   95.378947"
      ]
     },
     "execution_count": 65,
     "metadata": {},
     "output_type": "execute_result"
    },
    {
     "data": {
      "image/png": "[encoded data removed]",
      "text/plain": [
       "<Figure size 432x288 with 1 Axes>"
      ]
     },
     "metadata": {
      "needs_background": "light"
     },
     "output_type": "display_data"
    }
   ],
   "source": [
    "#Q1:試著用今天所教的內容，如何描述這兩組資料的樣態?\n",
    "#暗示:  分別計算男生和女生的統計量\n",
    "boy_mean=np.mean(boy)\n",
    "girl_mean=statistics.mean(girl)\n",
    "print(\"男生平均:\",boy_mean)\n",
    "print(\"女生平均:\",girl_mean)\n",
    "boy_med=np.median(boy)\n",
    "girl_med=statistics.median(girl)\n",
    "print(\"男生中位數:\",boy_med)\n",
    "print(\"女生中位數:\",girl_med)\n",
    "\n",
    "boy_mode=stats.mode(boy,axis=None)\n",
    "boy_mode[0][0]\n",
    "girl_mode=statistics.mode(girl)\n",
    "print(\"男生眾數:\",boy_mode[0][0])\n",
    "print(\"女生眾數:\",girl_mode)\n",
    "\n",
    "boy_fd=max(boy)-min(boy)\n",
    "girl_fd=max(girl)-min(girl)\n",
    "print(\"男生全距:\",boy_fd)\n",
    "print(\"女生全距:\",girl_fd)\n",
    "\n",
    "boy_std=np.std(boy,ddof=1)\n",
    "girl_std=statistics.stdev(girl)\n",
    "print(\"男生標準差:\",boy_std)\n",
    "print(\"女生標準差:\",girl_std)\n",
    "\n",
    "boy_var=np.var(boy,ddof=1)\n",
    "girl_var=statistics.variance(girl)\n",
    "print(\"男生變異數:\",boy_var)\n",
    "print(\"女生變異數:\",girl_var)\n",
    "\n",
    "data=pd.DataFrame([[boy_mean,girl_mean],\n",
    "                  [boy_med,girl_med],\n",
    "                  [boy_mode[0][0],girl_mode],\n",
    "                  [boy_fd,girl_fd],\n",
    "                  [boy_std,girl_std],\n",
    "                  [boy_var,girl_var]],index=[\"mean\",\"median\",\"mode\",\"range\",\"std\",\"var\"],columns=[\"boy\",\"girl\"])\n",
    "data.plot(kind=\"bar\",alpha=1)\n",
    "data"
   ]
  },
  {
   "cell_type": "code",
   "execution_count": 47,
   "metadata": {},
   "outputs": [
    {
     "data": {
      "text/plain": [
       "'\\n你的答案\\n'"
      ]
     },
     "execution_count": 47,
     "metadata": {},
     "output_type": "execute_result"
    }
   ],
   "source": [
    "#Q2: 請問男生和女生在平均身高上誰比較高? \n",
    "#女生"
   ]
  },
  {
   "cell_type": "code",
   "execution_count": 5,
   "metadata": {},
   "outputs": [
    {
     "data": {
      "text/plain": [
       "'\\n你的答案\\n'"
      ]
     },
     "execution_count": 5,
     "metadata": {},
     "output_type": "execute_result"
    }
   ],
   "source": [
    "#Q3:請問第二題的答案和日常生活中觀察的一致嗎? 如果不一致，你覺得原因可能為何? \n",
    "#我認為不一致,就常理來說男生會比較高\n",
    "#原因應該是因為在取樣的時候沒有取得很平均，我猜可能是女生都取到高的，男生則是取偏低的"
   ]
  }
 ],
 "metadata": {
  "colab": {
   "name": "Day33.YOLO 細節理解 - 網路輸出的後處理_HW.ipynb",
   "provenance": []
  },
  "kernelspec": {
   "display_name": "Python 3",
   "language": "python",
   "name": "python3"
  },
  "language_info": {
   "codemirror_mode": {
    "name": "ipython",
    "version": 3
   },
   "file_extension": ".py",
   "mimetype": "text/x-python",
   "name": "python",
   "nbconvert_exporter": "python",
   "pygments_lexer": "ipython3",
   "version": "3.8.5"
  }
 },
 "nbformat": 4,
 "nbformat_minor": 1
}
